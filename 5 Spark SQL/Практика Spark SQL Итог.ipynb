{
  "metadata": {
    "kernelspec": {
      "name": "python",
      "display_name": "Python (Pyodide)",
      "language": "python"
    },
    "language_info": {
      "codemirror_mode": {
        "name": "ipython",
        "version": 3
      },
      "file_extension": ".py",
      "mimetype": "text/x-python",
      "name": "python",
      "nbconvert_exporter": "python",
      "pygments_lexer": "ipython3",
      "version": "3.10.12"
    }
  },
  "nbformat_minor": 5,
  "nbformat": 4,
  "cells": [
    {
      "id": "6bb64f4b-47c4-48ec-8efb-7aeb097bb048",
      "cell_type": "code",
      "source": "from pyspark.sql import SparkSession\nfrom pyspark.sql.functions import col\nimport os",
      "metadata": {},
      "outputs": [],
      "execution_count": 10
    },
    {
      "id": "f5803eff-255c-440f-8e7b-905be2769390",
      "cell_type": "code",
      "source": "# Путь к jar-файлу\ndriver_jar_path = \"/path_to_jar/postgresql-42.4.4.jar\"\n\nif not os.path.exists(driver_jar_path):\n    raise FileNotFoundError(f\"File {driver_jar_path} does not exist.\")",
      "metadata": {},
      "outputs": [],
      "execution_count": 2
    },
    {
      "id": "70be1ece-3fa4-4ca9-a018-a7923954a32a",
      "cell_type": "code",
      "source": "# Create SparkSession\nspark = SparkSession.builder.appName(\"PostgreSQL Test\")\\\n                    .config(\"spark.jars\", driver_jar_path)\\\n                    .getOrCreate()",
      "metadata": {
        "trusted": true
      },
      "outputs": [],
      "execution_count": null
    },
    {
      "id": "c1c57bd7-f93f-4441-90cf-59ae83e7384d",
      "cell_type": "code",
      "source": "# Подключение к PostgreSQL\njdbc_url = f\"jdbc:postgresql://localhost:5555/course\"\nproperties = {\n    \"user\": \"admin\",\n    \"password\": \"admin\",\n    \"driver\": \"org.postgresql.Driver\"\n}",
      "metadata": {},
      "outputs": [],
      "execution_count": 4
    },
    {
      "id": "83c5963f-7dc5-48ee-881c-b3bef32497d6",
      "cell_type": "markdown",
      "source": "### Прочитайте данные из таблицы 'employee'",
      "metadata": {}
    },
    {
      "id": "8a0c3984-cd66-44bd-9e0e-a33a55e172aa",
      "cell_type": "code",
      "source": "try:\n    df = spark.read.jdbc(url=jdbc_url, table=\"employee\", properties=properties)\nexcept Exception as e:\n    print(f\"Read error: {e}\")",
      "metadata": {},
      "outputs": [],
      "execution_count": 5
    },
    {
      "id": "f2612015-d0f4-4ff4-adbb-36acab1b74e0",
      "cell_type": "code",
      "source": "df.show()",
      "metadata": {
        "trusted": true
      },
      "outputs": [],
      "execution_count": null
    },
    {
      "id": "925ca76f-c074-4bbf-94dd-dc57a36ac17b",
      "cell_type": "markdown",
      "source": "### Найдите сумму зарплат Rick Sanchez (Rick C-137) и Morty Smith",
      "metadata": {}
    },
    {
      "id": "246bc8e5-1086-4c05-961a-c18a4e03dbf3",
      "cell_type": "code",
      "source": "sum_of_salary = # Ваш код",
      "metadata": {},
      "outputs": [],
      "execution_count": null
    },
    {
      "id": "2741eb0f-a2f4-4a12-90a7-8d6eeddad825",
      "cell_type": "markdown",
      "source": "### Найдите среднюю зарплату Data Science (округлите результат до целого числа)",
      "metadata": {}
    },
    {
      "id": "74a7c5fe-9dc8-40f7-8bad-f47565916da4",
      "cell_type": "code",
      "source": "avg_salary_ds = # Ваш код",
      "metadata": {},
      "outputs": [],
      "execution_count": null
    },
    {
      "id": "4c27499f-4463-4b95-8267-dcf53de72c21",
      "cell_type": "markdown",
      "source": "### Найдите самое популярное имя сотрудника компании GoGoogle",
      "metadata": {}
    },
    {
      "id": "265bcb3b-2484-4279-889c-7ebaeac288bc",
      "cell_type": "code",
      "source": "popular_name_GoGoogle = # Ваш код",
      "metadata": {},
      "outputs": [],
      "execution_count": null
    },
    {
      "id": "b8b205b0-7a42-46db-8031-4bca709a78a3",
      "cell_type": "markdown",
      "source": "### Посчитайте количество уволенных сотрудник в разбивке по компаниям",
      "metadata": {}
    },
    {
      "id": "e2a1f598-d45c-4007-99e0-32e594b54d9d",
      "cell_type": "code",
      "source": "count_hired_by_company = # Ваш код",
      "metadata": {},
      "outputs": [],
      "execution_count": null
    },
    {
      "id": "f3654c72-01cd-4ee9-81d2-4ec48c1ab0e4",
      "cell_type": "markdown",
      "source": "### Найдите ТОП-5 популярных должностей",
      "metadata": {}
    },
    {
      "id": "db7998d5-5379-471d-b74e-c9070708a425",
      "cell_type": "code",
      "source": "top_fibe_positions = # Ваш код",
      "metadata": {},
      "outputs": [],
      "execution_count": null
    },
    {
      "id": "abc241d9-540e-4a68-9836-96cf290e9eea",
      "cell_type": "code",
      "source": "spark.stop()",
      "metadata": {},
      "outputs": [],
      "execution_count": 14
    }
  ]
}