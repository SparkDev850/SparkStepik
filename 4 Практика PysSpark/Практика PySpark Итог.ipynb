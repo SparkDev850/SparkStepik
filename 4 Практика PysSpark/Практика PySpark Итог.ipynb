{
  "metadata": {
    "kernelspec": {
      "name": "python",
      "display_name": "Python (Pyodide)",
      "language": "python"
    },
    "language_info": {
      "codemirror_mode": {
        "name": "ipython",
        "version": 3
      },
      "file_extension": ".py",
      "mimetype": "text/x-python",
      "name": "python",
      "nbconvert_exporter": "python",
      "pygments_lexer": "ipython3",
      "version": "3.7.3"
    }
  },
  "nbformat_minor": 4,
  "nbformat": 4,
  "cells": [
    {
      "cell_type": "markdown",
      "source": "Исходный датасет собран на основе данных <a href=\"https://www.kaggle.com/chicago/chicago-taxi-rides-2016\">Chicago Taxi Rides 2016</a>\n<br>Полная <a href=\"https://spark.apache.org/docs/latest/api/python/index.html\">документация PySpark</a>.\n<br>Схема данны:\n<br>|-- taxi_id = идентификатор таксиста\n<br>|-- trip_start_timestamp = время начала поездки\n<br>|-- trip_end_timestamp = время окончания поездки\n<br>|-- trip_seconds = время длительности поездки в секундах\n<br>|-- trip_miles = мили проиденные во время поездки\n<br>|-- fare = транспортные расходы\n<br>|-- tips = назначенные чаевые\n<br>|-- trip_total = общая стоимость поездки\n<br>|-- payment_type = тип оплаты",
      "metadata": {}
    },
    {
      "cell_type": "code",
      "source": "from pyspark.sql import SparkSession\nfrom pyspark.sql.functions import col",
      "metadata": {},
      "outputs": [],
      "execution_count": null
    },
    {
      "cell_type": "code",
      "source": "spark = SparkSession.builder.appName('PySparkTasks').getOrCreate()",
      "metadata": {},
      "outputs": [],
      "execution_count": null
    },
    {
      "cell_type": "code",
      "source": "spark.conf.set(\"spark.sql.session.timeZone\", \"GMT+3\")",
      "metadata": {},
      "outputs": [],
      "execution_count": null
    },
    {
      "cell_type": "code",
      "source": "spark",
      "metadata": {},
      "outputs": [],
      "execution_count": null
    },
    {
      "cell_type": "markdown",
      "source": "### Скачайте <a href=\"https://github.com/AlexKbit/stepik-ds-course/raw/master/Week3/spark-tasks/taxi_data.parquet\">taxi_data.parquet</a> и загрузите",
      "metadata": {}
    },
    {
      "cell_type": "code",
      "source": "df = #Ваш код загрузки",
      "metadata": {},
      "outputs": [],
      "execution_count": null
    },
    {
      "cell_type": "markdown",
      "source": "### Посчитайте количество загруженных строк.",
      "metadata": {}
    },
    {
      "cell_type": "code",
      "source": "# Число строк",
      "metadata": {},
      "outputs": [],
      "execution_count": null
    },
    {
      "cell_type": "markdown",
      "source": "Посмотрим схему данных:",
      "metadata": {}
    },
    {
      "cell_type": "code",
      "source": "df.printSchema()",
      "metadata": {},
      "outputs": [],
      "execution_count": null
    },
    {
      "cell_type": "markdown",
      "source": "### Чему равна корреляция и ковариация между длиной маршрута и ценой за поездку? Ответ округлите до 5 знаков после запятой.\n<br>Подробнее <a href=\"https://spark.apache.org/docs/latest/api/python/pyspark.sql.html#pyspark.sql.DataFrame.corr\">corr</a> & <a href=\"https://spark.apache.org/docs/latest/api/python/pyspark.sql.html#pyspark.sql.DataFrame.cov\">cov</a>",
      "metadata": {}
    },
    {
      "cell_type": "code",
      "source": "# Ваш код",
      "metadata": {},
      "outputs": [],
      "execution_count": null
    },
    {
      "cell_type": "markdown",
      "source": "### Найдите количество, среднее, cреднеквадратическое отклонение, минимум и максимум для длины маршрута и цены за поездку? Ответ округлите до 1 знака после запятой (<a href=\"https://spark.apache.org/docs/latest/api/python/pyspark.sql.html#pyspark.sql.DataFrame.describe\">describe</a>)",
      "metadata": {}
    },
    {
      "cell_type": "code",
      "source": "# Ваш код",
      "metadata": {},
      "outputs": [],
      "execution_count": null
    },
    {
      "cell_type": "markdown",
      "source": "### Найдите самый НЕ популярный вид оплаты (<a href=\"https://spark.apache.org/docs/latest/api/python/pyspark.sql.html#pyspark.sql.DataFrame.groupBy\">groupBy</a>, <a href=\"https://spark.apache.org/docs/latest/api/python/pyspark.sql.html#pyspark.sql.DataFrame.orderBy\">orderBy</a>)",
      "metadata": {}
    },
    {
      "cell_type": "code",
      "source": "# Ваш код",
      "metadata": {},
      "outputs": [],
      "execution_count": null
    },
    {
      "cell_type": "markdown",
      "source": "### Найдите идентификатор таксиста выполнившего наибольшее число заказов.",
      "metadata": {}
    },
    {
      "cell_type": "code",
      "source": "# Ваш код",
      "metadata": {},
      "outputs": [],
      "execution_count": null
    },
    {
      "cell_type": "markdown",
      "source": "### Чему равна средняя цена среди поездок, оплаченных наличными? Ответ округлите до 5 знака (<a href=\"https://spark.apache.org/docs/latest/api/python/pyspark.sql.html#pyspark.sql.DataFrame.where\">where</a>)",
      "metadata": {}
    },
    {
      "cell_type": "code",
      "source": "# Ваш код",
      "metadata": {},
      "outputs": [],
      "execution_count": null
    },
    {
      "cell_type": "markdown",
      "source": "### Сколько таксистов проехало больше 1000 миль за все время выполнения заказов?",
      "metadata": {}
    },
    {
      "cell_type": "code",
      "source": "# Ваш код",
      "metadata": {},
      "outputs": [],
      "execution_count": null
    },
    {
      "cell_type": "markdown",
      "source": "### Сколько миль проехал пассажир в самой долгой поездке? (Ответ округлите до целого)",
      "metadata": {}
    },
    {
      "cell_type": "code",
      "source": "# Ваш код",
      "metadata": {},
      "outputs": [],
      "execution_count": null
    },
    {
      "cell_type": "markdown",
      "source": "### Каков средний заработок всех таксистов? Ответ округлите до 5-ого знака.",
      "metadata": {}
    },
    {
      "cell_type": "code",
      "source": "# Ваш код",
      "metadata": {},
      "outputs": [],
      "execution_count": null
    },
    {
      "cell_type": "markdown",
      "source": "### Сколько поездок начиналось в самый загруженный час (функцию <a href=\"https://spark.apache.org/docs/latest/api/python/pyspark.sql.html#pyspark.sql.functions.hour\">hour</a>)",
      "metadata": {}
    },
    {
      "cell_type": "code",
      "source": "from pyspark.sql.functions import hour",
      "metadata": {},
      "outputs": [],
      "execution_count": 19
    },
    {
      "cell_type": "code",
      "source": "# Ваш код",
      "metadata": {},
      "outputs": [],
      "execution_count": 20
    },
    {
      "cell_type": "markdown",
      "source": "### Сколько поездок началось во второй четверти дня?",
      "metadata": {}
    },
    {
      "cell_type": "code",
      "source": "# Ваш код",
      "metadata": {},
      "outputs": [],
      "execution_count": 21
    },
    {
      "cell_type": "markdown",
      "source": "### Найдите топ три даты, в которые было суммарно больше всего чаевых? (Чаевые выдаются после совершения поездки)\n<br>Ожидаемый формат дат YYYY-MM-DD\n<br>Может понадобится конвертация типов <a href=\"https://spark.apache.org/docs/latest/api/python/pyspark.sql.html#pyspark.sql.Column.cast\">cast</a>",
      "metadata": {}
    },
    {
      "cell_type": "code",
      "source": "from pyspark.sql.types import DateType",
      "metadata": {},
      "outputs": [],
      "execution_count": null
    },
    {
      "cell_type": "code",
      "source": "# Ваш код",
      "metadata": {},
      "outputs": [],
      "execution_count": null
    },
    {
      "cell_type": "markdown",
      "source": "### Сколько было заказов в дату с наибольшим спросом?",
      "metadata": {}
    },
    {
      "cell_type": "code",
      "source": "# Ваш код",
      "metadata": {},
      "outputs": [],
      "execution_count": null
    },
    {
      "cell_type": "markdown",
      "source": "Подгрузите данные о марках машин из датасета <a href=\"https://github.com/AlexKbit/stepik-ds-course/raw/master/Week3/spark-tasks/taxi_cars_data.parquet\">taxi_cars_data.parquet</a>",
      "metadata": {}
    },
    {
      "cell_type": "code",
      "source": "df_car = # Ваш код загрузки",
      "metadata": {},
      "outputs": [],
      "execution_count": null
    },
    {
      "cell_type": "code",
      "source": "df_car.show()",
      "metadata": {},
      "outputs": [],
      "execution_count": null
    },
    {
      "cell_type": "markdown",
      "source": "### Какая марка машины самая распрастранненая среди таксистов? (<a href=\"https://spark.apache.org/docs/latest/api/python/pyspark.sql.html#pyspark.sql.functions.split\">split</a>)",
      "metadata": {}
    },
    {
      "cell_type": "code",
      "source": "from pyspark.sql.functions import split",
      "metadata": {},
      "outputs": [],
      "execution_count": 23
    },
    {
      "cell_type": "code",
      "source": "# Ваш код",
      "metadata": {},
      "outputs": [],
      "execution_count": 22
    },
    {
      "cell_type": "markdown",
      "source": "### Сколько раз и какая модель машин чаще всего встречается в поездках (<a href=\"https://spark.apache.org/docs/latest/api/python/pyspark.sql.html#pyspark.sql.DataFrame.join\">join</a>)",
      "metadata": {}
    },
    {
      "cell_type": "code",
      "source": "# Ваш код",
      "metadata": {},
      "outputs": [],
      "execution_count": null
    },
    {
      "cell_type": "markdown",
      "source": "### Сохраните DataFrame в csv",
      "metadata": {}
    },
    {
      "cell_type": "code",
      "source": "# Ваш код с coalesce(1)",
      "metadata": {},
      "outputs": [],
      "execution_count": 12
    },
    {
      "cell_type": "markdown",
      "source": "### Теперь загрузите данные из csv и проверьте типы методом printSchema()",
      "metadata": {}
    },
    {
      "cell_type": "code",
      "source": "# Ваш код с printSchema() для DataFrame из csv",
      "metadata": {},
      "outputs": [],
      "execution_count": 13
    },
    {
      "cell_type": "markdown",
      "source": "### Не забудьте посмотреть SparkUI и изучить историю ваших задач",
      "metadata": {}
    },
    {
      "cell_type": "code",
      "source": "spark",
      "metadata": {},
      "outputs": [],
      "execution_count": null
    },
    {
      "cell_type": "code",
      "source": "spark.stop()",
      "metadata": {},
      "outputs": [],
      "execution_count": null
    }
  ]
}